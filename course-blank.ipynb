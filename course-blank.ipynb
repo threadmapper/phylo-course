{
 "cells": [
  {
   "cell_type": "markdown",
   "metadata": {},
   "source": [
    "**Phylogenetic Course: Exercises **\n",
    "===================================\n"
   ]
  },
  {
   "cell_type": "markdown",
   "metadata": {},
   "source": [
    "*Basic phylogenetic tree making*  \n"
   ]
  },
  {
   "cell_type": "markdown",
   "metadata": {},
   "source": [
    "We are going to use this shows **basic concepts**  and few exercises to learn tree making using some popular methods. \n",
    "Later we will use the workflows via ete toolkit version 3 or  *ete3* \n"
   ]
  },
  {
   "cell_type": "markdown",
   "metadata": {},
   "source": [
    " 1. Distance Based Method\n",
    " ------------------------"
   ]
  },
  {
   "cell_type": "markdown",
   "metadata": {},
   "source": [
    "- We are going to use Neighbour Joining method using `FastTree` (http://www.microbesonline.org/fasttree) \n",
    "- We can also use MEGA 6 that is avaible on your windows machines please check your MEGA version  will be slightyly different than`MEGA 6`\n",
    "- Tree building usually requires several external programs to compute trees, sequence alignments and to perform other tasks.\n",
    "- We have all the tools needed to build the trees and visual on your machine. One of the recommended tool \n",
    "  is *etetoolkit* (http://etetoolkit.org/download/)"
   ]
  },
  {
   "cell_type": "markdown",
   "metadata": {},
   "source": [
    " ** We check if the tools are working OK ? ** Hint: select the following and press shift + Enter"
   ]
  },
  {
   "cell_type": "code",
   "execution_count": null,
   "metadata": {
    "collapsed": false
   },
   "outputs": [],
   "source": [
    "%%bash\n",
    "ete3 build check"
   ]
  },
  {
   "cell_type": "markdown",
   "metadata": {},
   "source": [
    "One of the popular format to use a simple sequence file(a dummy file) in a Fasta Format.  \n",
    "- It is a simple text based file format where a header line begins with as '>' and followed by specied or taxa name and the following line is the sequence.\n",
    "- Make sure that your data is correctly encoded as a FASTA formatted file.\n",
    "- It is recommended that the header of the FASTA file does not contain weird symbols and that sequence names are not duplicated.\n",
    "- You can use amino acids or nucleotide sequences. \n",
    "For this example, we will use amino-acid sequences: *protein5.fa* \n",
    "We can check the content of the above fasta file by the following instructions(or command)\n"
   ]
  },
  {
   "cell_type": "markdown",
   "metadata": {},
   "source": [
    "We can also use the MEGA to convert into a Phylip fomat [protein5.phy.\n",
    "\n",
    "Which is a rather much simpler format: Number of taxa or sequence (5) and the length each sequence is (20)  appear\n",
    "in the first line followed by name of taxa and it corresponding sequence as a one line each.  \n",
    "The first line of the input file contains the number of taxa and the number of sequence characters \n",
    "separated by blanks. The information for each species follows, starting with a ten-character species#\n",
    "name (which can include punctuation marks and blanks), and continuing with the characters for that species. \n",
    "For example, protein5.phy:\n",
    "\n",
    "<pre>\n",
    "5 20\n",
    "Cow          MAYPMQLGFQ DATSPIMEEL \n",
    "Carp         MAHPTQLGFK DAAMPVMEEL \n",
    "Chicken      MANHSQLGFQ DASSPIMEEL \n",
    "Human        MAHAAQVGLQ DATSPIMEEL \n",
    "Loach        MAHPTQLGFQ DAASPVMEEL\n",
    "</pre>\n",
    "\n",
    "You can also use various online tools to convert them into other formats too. For example: \n",
    "(http://www.hiv.lanl.gov/content/sequence/FORMAT_CONVERSION/form.html)\n",
    "\n",
    "Please free to use to get a Neighbour Joining (NJ) distance based tree with MEGA 6 on your window machine. \n",
    "\n",
    "Please goto file open and select protein sequences. Once the sequences are loaded select Phylogeny and then Test/ Construct Neighbour Joining Tree. Go ahead and compute the Tree\n",
    "And Save the displayed Tree as newick formatted tree this will have an extension nwk or newick formatted Tree. \n",
    "\n",
    "This is a very simple format using parenthesis to separate taxa and their relationship. For example \n",
    "a phylogenetic tree:\n",
    "<pre>\n",
    "          /-A\n",
    "     /---|\n",
    "    |     \\-B\n",
    "----|\n",
    "    |     /-C\n",
    "     \\---|\n",
    "          \\-D\n",
    "</pre>  \n",
    "\n",
    "Can be simply represented using:\n",
    "\n",
    "(A,B),(C,D));\n",
    "\n",
    "\n",
    "If you really have to construct a large scale sequences which will be the case with the data these days.\n",
    "NJ tree can be Heuristic based Neighbor-Joining using FastTree. It is really simple to use. Visit the site (http://www.microbesonline.org/fasttree/). \n",
    "\n",
    "**We are going to use fastree here to get the NJ (distance based) tree for protein5.phy as following: **"
   ]
  },
  {
   "cell_type": "code",
   "execution_count": null,
   "metadata": {
    "collapsed": false
   },
   "outputs": [],
   "source": [
    "%%bash \n",
    "cat protein5.phy "
   ]
  },
  {
   "cell_type": "markdown",
   "metadata": {},
   "source": [
    "*How many species the above file has ? What is the sequence length for each ?* \n",
    "Now let us try to construct the distance base Neighbour Joining(NJ) tree for the above sequence. \n",
    "Input file is given to fasttree as symbol '<'  and output is obtained via '>' to the FastTree. \n",
    "The output will be a newick formatted tree representation."
   ]
  },
  {
   "cell_type": "code",
   "execution_count": null,
   "metadata": {
    "collapsed": false
   },
   "outputs": [],
   "source": [
    "%%bash\n",
    "fasttree -fastest < protein5.phy > protein5-fastNJ.nwk"
   ]
  },
  {
   "cell_type": "markdown",
   "metadata": {},
   "source": [
    "We can now check the newick formatted output Tree obtained above.\n"
   ]
  },
  {
   "cell_type": "code",
   "execution_count": null,
   "metadata": {
    "collapsed": false,
    "scrolled": false
   },
   "outputs": [],
   "source": [
    "%%bash\n",
    "ete3 view --text -t  protein5-fastNJ.nwk"
   ]
  },
  {
   "cell_type": "markdown",
   "metadata": {},
   "source": [
    "2. Parsimony Tree\n",
    "-----------------"
   ]
  },
  {
   "cell_type": "markdown",
   "metadata": {},
   "source": [
    "***Constructing a Maximum Parsimony Tree***\n",
    "\n",
    "We are going to use RAxML developed by Alexandros Stamakakis for computing Maximum parsimony trees. \n",
    "There is a tool called Parsimonator: A fast open-source parsimony program \n",
    "\n",
    "http://sco.h-its.org/exelixis/web/software/parsimonator/index.html\n",
    "\n",
    "Put simply, the method chooses (amongst many alternative trees) a tree that maximises the \n",
    "probability of observing the data, given the evolutionary model.\n",
    "The model choosesout of all possible trees, the maximum likelihood tree is the tree that makes the evolution of our sequence alignment the most probable and its expressed in  the log probabilities scale. \n",
    "\n",
    "Parsimony and maximum likelihood analysis calculate a score (say log- likelihood) for many different trees. There is no way to evaluate all possible tree s, unless you're looking at very few taxon. Therefore, we need to employ many clever heuristic methods- essentially starting with Neighbor-Joining trees, and rearranges taxon until the likelihood no longer improves. \n",
    "Maximum likelihood method (and the conceptually related, the Bayesian method) are the most \n",
    "computationally intensive of phylogenetic methods. Theoretically, if the evolutionary model used \n",
    "is realistic this method should give us the best chance of finding the \"actual\" tree.\n",
    "\n",
    "We are going to use RAxML as we have precompiled binaries of RAxML for Windows, Linux x86. The linux executables are already on our Virtual machine. \n",
    "\n",
    "We can invoke making parsimonator tree, which generally an approach used by RAxML to produce candidate Trees.\n",
    "\n",
    "<pre>\n",
    "\n",
    "raxml  -y -s alignment_file> -m yourmodel -n  outputname  -p  Randomseed\n",
    "\n",
    "</pre>\n",
    "\n",
    "and we run as follows:\n"
   ]
  },
  {
   "cell_type": "code",
   "execution_count": null,
   "metadata": {
    "collapsed": false,
    "scrolled": true
   },
   "outputs": [],
   "source": [
    "%%bash\n",
    "raxml -y -s protein5.phy  -m PROTGAMMAAUTO  -n  protein5-parsim.nwk     -p 1234   "
   ]
  },
  {
   "cell_type": "code",
   "execution_count": null,
   "metadata": {
    "collapsed": false,
    "scrolled": true
   },
   "outputs": [],
   "source": [
    "%%bash\n",
    "#rm RAxML_info.protein5-parsim.nwk\n",
    "cp RAxML_parsimonyTree.protein5-parsim.nwk protein5-parsim.nwk\n",
    "ete3 view --text -t  protein5-parsim.nwk"
   ]
  },
  {
   "cell_type": "markdown",
   "metadata": {},
   "source": [
    "3. Calculating Maximum Likelihood Trees with RAxML\n",
    "==================================================\n",
    "\n",
    "The simplest method of running RAxML is to copy the binary appropriate directory and we can cd to working directory \n",
    "where you have saved it:\n",
    "Sequences are in PHYLIP format.  [ protein5.phy]\n",
    "\n",
    "To create the Maximum Likelihood tree, type the following:\n",
    "<pre>\n",
    "\n",
    "Windows:   raxml.exe -f d -m PROTGAMMAAUTO -s protein5.phy -n PRT5  -# 1\n",
    "Linux :    raxml    -f  d -m PROTGAMMAAUTO -s protein5.phy -n PRT5  -# 1\n",
    "\n",
    "\n",
    "The -f option refers to the type of algorithm you want RAxML  to execute. \n",
    "In this case we are specifying the default (d) hill-climbing\n",
    "algorithm. \n",
    "\n",
    "The -m option denoted the substitution model to be used.\n",
    "The -s option refers the sequence data file which must be in PHYLIP format\n",
    "\n",
    "The -n option gives the output file prefix \n",
    "\n",
    "Finally, the -# option\n",
    "Is the number of alternative runs on distinct starting trees.\n",
    "\n",
    "The program should take about 2 minutes to create one replicate of the\n",
    "maximum likelihood phylogenetic tree over our reduced set of sequences.\n",
    "\n",
    "As it completes each tree, it assigns a likelihood score to each. \n",
    "\n",
    "At the end, it prints which tree is the most likely to the screen.\n",
    "\n",
    "This information is also found at the end of the file RAxML info.*\n",
    "\n",
    "Typically RAxML chooses the best tree out of thousands of \n",
    "possible replicates.\n",
    "\n",
    "The completed maximum likelihood phylogenetic tree is\n",
    "found in the  RAxML_bestTree.PRT5\n",
    "</pre>\n"
   ]
  },
  {
   "cell_type": "markdown",
   "metadata": {},
   "source": [
    "We need to estimate program parameters, the program parameter PROTGAMMAAUTO, the optimal models of substitution \n",
    "can be identified.\n",
    "\n",
    "We will make use of 10 different starting trees for a given alignment using the parsimonator algorithm of  RAxML with 10 different random seeds. \n",
    "We will estimate 10 maximum likelihood analyses on different starting trees. \n",
    "\n",
    "Next, we will conduct the standard bootstraps and performed ML analysis on 100 replicates. \n",
    "Finally, we select the tree with best likelihood score and draw bootstrap supports onto each selected tree. \n",
    "\n",
    "The newick-formatted trees will be read and processed using the ETE3 library (Huerta-Cepas et al, 2010) and \n",
    "the scripts will be in Python.\n",
    "\n",
    "Calculating Bootstrapping Values with RAxML\n",
    "-------------------------------------------\n",
    "\n",
    "Bootstrapping is a method to assign confidence scores in your phylogenetic tree.\n",
    "\n",
    "Bootstrapping involves generating many phylogenetic trees using random resamplings of the input \n",
    "sequences (Baldauf, 2003). \n",
    "\n",
    "Each phylogenetic tree is then compared with the other trees, and the structural similarities are determined. \n",
    "\n",
    "If a particular subtree persists across many phylogenetic trees despite many sequence permuta-\n",
    "tions, it is assigned a high bootstrapping score. \n",
    "\n",
    "For example, if 100 bootstrapping trees are computed, and a particular subtree is found in 80 of those trees, that subtree will be assigned a bootstrapping value of 80, indicating 80% of trees\n",
    "contained that subtree. Typically, a bootstrapping value above 70 is required for confidence that \n",
    "a particular subtree accurately represents the phylogeny of the underlying organisms.\n",
    "\n",
    "The next step is to compute the bootstrapping values for the best likelihood tree. \n",
    "You need to provide RAxML with the original alignment in PHYLIP format and the best \n",
    "likelihood tree from the previous step.\n",
    "\n",
    "Maximum parsimony using RAxML and then doing ML searches on them and assigning bootstrap values. \n",
    "\n",
    "# Make ML tree from 10 runs starting with a different parsimony tree\n",
    "\n",
    "##### making 5 ML trees each starting from a different parsimonious tree will make max 10 runs on each \n",
    "\n",
    "<pre>\n",
    "\n",
    "raxmlHPC -f d  -m PROTGAMMAJTT -s protein5.phy -N 10  -n ML1 -p 1234\n",
    "raxmlHPC -f d  -m PROTGAMMAJTT -s protein5.phy -N 10  -n ML2 -p 2565\n",
    "raxmlHPC -f d  -m PROTGAMMAJTT -s protein5.phy -N 10  -n ML3 -p 3445\n",
    "raxmlHPC -f d  -m PROTGAMMAJTT -s protein5.phy -N 10  -n ML4 -p 4565\n",
    "raxmlHPC -f d  -m PROTGAMMAJTT -s protein5.phy -N 10  -n ML5 -p 5676\n",
    "\n",
    "</pre>\n",
    "\n"
   ]
  },
  {
   "cell_type": "markdown",
   "metadata": {
    "collapsed": false,
    "scrolled": true
   },
   "source": [
    "We run RAxML:"
   ]
  },
  {
   "cell_type": "code",
   "execution_count": null,
   "metadata": {
    "collapsed": false,
    "scrolled": true
   },
   "outputs": [],
   "source": [
    "%%bash\n",
    "raxml -f d  -m PROTGAMMAJTT -s protein5.phy -N 10  -n ML1 -p 1234"
   ]
  },
  {
   "cell_type": "code",
   "execution_count": null,
   "metadata": {
    "collapsed": false
   },
   "outputs": [],
   "source": [
    "%%bash\n",
    "#rm RAxML_info.protein5-parsim.nwk\n",
    "#cp RAxML_bestTree.ML1 protein5-parsim.nwk\n",
    "ete3 view --text -t RAxML_bestTree.ML1"
   ]
  },
  {
   "cell_type": "markdown",
   "metadata": {},
   "source": [
    "Drawing Boot strap trees\n",
    "------------------------\n",
    "\n",
    "- Make 100 boot trees\n",
    "\n",
    "<pre>\n",
    "raxmlHPC  -f d -m PROTGAMMAJTT -s protein5.phy -b 12463  -p 54439 -n BOOT100  -N 100\n",
    "\n",
    "</pre>\n",
    "The 100 bootstrapped trees will written to as a file called: RAxML_bootstrap.BOOT100\n"
   ]
  },
  {
   "cell_type": "code",
   "execution_count": null,
   "metadata": {
    "collapsed": false
   },
   "outputs": [],
   "source": [
    "%%bash\n",
    "raxml  -f d  -m PROTGAMMAJTT -s protein5.phy -b 12463  -p 54439 -n BOOT100  -N 100"
   ]
  },
  {
   "cell_type": "markdown",
   "metadata": {},
   "source": [
    "#### Drawing the boostrap values on the best of  ML tree:  reconcile or draw using option -z   ####\n",
    "<pre>\n",
    "\n",
    "raxml  -m PROTGAMMAJTT -f b   -t RAxML_bestTree.ML1   -z  BOOT100.tre   -n  finalML1_boot100\n",
    "\n",
    "</pre>\n"
   ]
  },
  {
   "cell_type": "code",
   "execution_count": null,
   "metadata": {
    "collapsed": false,
    "scrolled": true
   },
   "outputs": [],
   "source": [
    "%%bash\n",
    "raxml  -m PROTGAMMAJTT -f b   -t RAxML_bestTree.ML1   -z  RAxML_bootstrap.BOOT100 -nfinalML1_boot100"
   ]
  },
  {
   "cell_type": "markdown",
   "metadata": {},
   "source": [
    "Viewing the Boostrapped drawn *RAxML_bipartitionsBranchLabels.finalML1_boot100*\n",
    "tree on the best Maximum likelihood tree:\n"
   ]
  },
  {
   "cell_type": "code",
   "execution_count": null,
   "metadata": {
    "collapsed": false
   },
   "outputs": [],
   "source": [
    "%%bash\n",
    "ete3 view  --raxml --text -t   RAxML_bipartitionsBranchLabels.finalML1_boot100\n",
    "ete3 view   --raxml --image booted.png --show_support  -t   RAxML_bipartitionsBranchLabels.finalML1_boot100\n"
   ]
  },
  {
   "cell_type": "code",
   "execution_count": null,
   "metadata": {
    "collapsed": false
   },
   "outputs": [],
   "source": [
    "from IPython.display import Image\n",
    "Image(filename='booted.png')"
   ]
  },
  {
   "cell_type": "markdown",
   "metadata": {},
   "source": [
    "\n",
    "\n",
    "\n",
    "\n",
    "Tree manipulations\n",
    "-------------------\n",
    "We will use a Python framework for the analysis and visualization of trees called ete toolkit. This is capable of  loading, creating, traversing, search, prune, or modify hierarchical tree structures with ease using the ETE Python API.  One of the rich feature it has is to make custom node(taxa) attributes that can be rendered as graphical elements. Choose among external images, charts, symbols, text labels, and to finally make publication quality trees.\n",
    "\n",
    "- (http://etetoolkit.org/)\n",
    "- (http://etetoolkit.org/documentation/tools/)\n",
    " \n",
    "\n",
    "Reference and Acknowledgements \n",
    "------------------------------\n",
    "\n",
    "Stamatakis A (2006) RAxML-VI-HPC: maximum likelihood-based phylogenetic analyses with thousands of taxa and mixed models. Bioinformatics 22: 26882690 doi:10.1093/bioinformatics/btl446.\n",
    "Stamatakis A.( 2014) RAxML version 8: a tool for phylogenetic analysis and post-analysis of large phylogenies. Bioinformatics  30(9):1312-3. http://dx.doi.org/10.1093/bioinformatics/btu033 \n",
    "Huerta-Cepas J et al(2010) ETE: a python Environment for Tree Exploration. BMC Bioinformatics 11: 24.\n",
    "http://rogerlab.biochemistryandmolecularbiology.dal.ca/lab3_2011.html [Some of the material above is from this valuable resource please see details]\n",
    "\n",
    "</pre>"
   ]
  },
  {
   "cell_type": "markdown",
   "metadata": {},
   "source": [
    "Further Exercises\n",
    "================="
   ]
  },
  {
   "cell_type": "markdown",
   "metadata": {
    "collapsed": true
   },
   "source": [
    "We now try an additional exercise but this time using the Clustal Omega, Fasttree and ete3. \n",
    "This is from the ete3. We start with NUP62 homologues sequences. Let see first few lines:"
   ]
  },
  {
   "cell_type": "code",
   "execution_count": null,
   "metadata": {
    "collapsed": false
   },
   "outputs": [],
   "source": [
    "%%bash \n",
    "cat NUP62.fa | head -n 4"
   ]
  },
  {
   "cell_type": "markdown",
   "metadata": {
    "collapsed": true
   },
   "source": [
    "#####  We pick a workflow name from the list of many from ete3 website and run it:"
   ]
  },
  {
   "cell_type": "code",
   "execution_count": null,
   "metadata": {
    "collapsed": false
   },
   "outputs": [],
   "source": [
    "%%bash\n",
    "ete3 build workflows genetree"
   ]
  },
  {
   "cell_type": "markdown",
   "metadata": {},
   "source": [
    "Only three parameters are required: \n",
    "\n",
    "- Use `-a` to provide an amino acid sequence file (or `-n` for nucleotides)\n",
    "- `-o` to define the output directory (should not exist, otherwise `--resume` or `--clearall` flags will be necessary)\n",
    "- `-w` to set the name of the workflow to be executed. For this example we will use the `standard_fasttree` workflow."
   ]
  },
  {
   "cell_type": "code",
   "execution_count": null,
   "metadata": {
    "collapsed": false,
    "scrolled": true
   },
   "outputs": [],
   "source": [
    "%%bash\n",
    "ete3 build -w standard_fasttree -a NUP62.fa -o NUP62_tree/ --clearall"
   ]
  },
  {
   "cell_type": "markdown",
   "metadata": {},
   "source": [
    "After a few minutes you should get the process done and get a list of generated files and references to the software used. All results will be stored in the provided output directory, whose structure is the following: "
   ]
  },
  {
   "cell_type": "code",
   "execution_count": null,
   "metadata": {
    "collapsed": false
   },
   "outputs": [],
   "source": [
    "%%bash \n",
    "ls NUP62_tree/ -lthtr\n"
   ]
  },
  {
   "cell_type": "markdown",
   "metadata": {},
   "source": [
    "- the `ete_build.cfg` is a copy of the configuration file used (including all workflow options, etc.)\n",
    "- `db/` and `tasks/` are temporary directories used to run different processes. They are used in case you want to resume an analysis or if you need to debug any issue. Every job (i.e. FastTree, ClustalO, etc. will generate one or more directories in `tasks`) \n",
    "- **your results** are stored in the folder matching the raw name of the workflow chosen. `standard_fastree` translates into a workflow using clustal Omega and Fasttree, and skipping model testing and alignment trimming, so the result dir is `clustalo_default-none-none-fasttree_full`\n",
    "\n",
    "Note that a full path pointer to the final tree and alignment is also printed when ete3 finishes. "
   ]
  },
  {
   "cell_type": "markdown",
   "metadata": {},
   "source": [
    "### 5. Explore your tree"
   ]
  },
  {
   "cell_type": "markdown",
   "metadata": {},
   "source": [
    "As we did _not_ use the `--noimg` flag, a tree and alignment image was generated automatically. "
   ]
  },
  {
   "cell_type": "code",
   "execution_count": null,
   "metadata": {
    "collapsed": false
   },
   "outputs": [],
   "source": [
    "from IPython.display import Image\n",
    "Image(filename='NUP62_tree/clustalo_default-none-none-fasttree_full/NUP62.fa.final_tree.png')"
   ]
  },
  {
   "cell_type": "markdown",
   "metadata": {},
   "source": [
    "We can also have a quick look at the resulting tree from terminal: `ete3 view --text` "
   ]
  },
  {
   "cell_type": "markdown",
   "metadata": {},
   "source": [
    "or generate an SVG figure from the command line"
   ]
  },
  {
   "cell_type": "code",
   "execution_count": null,
   "metadata": {
    "collapsed": false
   },
   "outputs": [],
   "source": [
    "%%bash \n",
    "ete3 view --image tree.svg -t NUP62_tree/clustalo_default-none-none-fasttree_full/NUP62.fa.final_tree.nw "
   ]
  },
  {
   "cell_type": "code",
   "execution_count": null,
   "metadata": {
    "collapsed": false
   },
   "outputs": [],
   "source": [
    "from IPython.display import SVG\n",
    "SVG(filename='tree.svg')"
   ]
  },
  {
   "cell_type": "markdown",
   "metadata": {},
   "source": [
    "###  Loading the tree and alignment using the ete3 API for further analysis "
   ]
  },
  {
   "cell_type": "markdown",
   "metadata": {},
   "source": [
    "The ete3 toolkit  allows you to do much more, from rooting, traversing or node manipulation to custom visualization. Following is the exmaple verbatim from the ete3 toolkit, just ot show the alignment and the tree side by side. Impressive !!"
   ]
  },
  {
   "cell_type": "code",
   "execution_count": null,
   "metadata": {
    "collapsed": false
   },
   "outputs": [],
   "source": [
    "from ete3 import PhyloTree\n",
    "tree = PhyloTree(\"NUP62_tree/clustalo_default-none-none-fasttree_full/NUP62.fa.final_tree.nw\")\n",
    "tree.link_to_alignment(\"NUP62_tree/clustalo_default-none-none-fasttree_full/NUP62.fa.final_tree.used_alg.fa\")\n",
    "tree.render(\"%%inline\")"
   ]
  },
  {
   "cell_type": "code",
   "execution_count": null,
   "metadata": {
    "collapsed": false
   },
   "outputs": [],
   "source": [
    "tree.get_common_ancestor(\"Phy004W8WJ_FALPE\", \"Phy004OQ34_STRCA\").render(\"%%inline\", layout=\"basic\")\n"
   ]
  },
  {
   "cell_type": "code",
   "execution_count": null,
   "metadata": {
    "collapsed": false
   },
   "outputs": [],
   "source": [
    "print 'DONE'"
   ]
  }
 ],
 "metadata": {
  "anaconda-cloud": {},
  "celltoolbar": "Raw Cell Format",
  "kernelspec": {
   "display_name": "Python [default]",
   "language": "python",
   "name": "python2"
  },
  "language_info": {
   "codemirror_mode": {
    "name": "ipython",
    "version": 2
   },
   "file_extension": ".py",
   "mimetype": "text/x-python",
   "name": "python",
   "nbconvert_exporter": "python",
   "pygments_lexer": "ipython2",
   "version": "2.7.12"
  }
 },
 "nbformat": 4,
 "nbformat_minor": 0
}
